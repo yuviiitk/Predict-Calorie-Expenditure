{
 "cells": [
  {
   "cell_type": "code",
   "execution_count": 1,
   "id": "e70ff0a5",
   "metadata": {
    "_cell_guid": "b1076dfc-b9ad-4769-8c92-a6c4dae69d19",
    "_uuid": "8f2839f25d086af736a60e9eeb907d3b93b6e0e5",
    "execution": {
     "iopub.execute_input": "2025-05-02T13:40:52.055542Z",
     "iopub.status.busy": "2025-05-02T13:40:52.054766Z",
     "iopub.status.idle": "2025-05-02T13:40:56.760604Z",
     "shell.execute_reply": "2025-05-02T13:40:56.759022Z"
    },
    "papermill": {
     "duration": 4.712182,
     "end_time": "2025-05-02T13:40:56.762847",
     "exception": false,
     "start_time": "2025-05-02T13:40:52.050665",
     "status": "completed"
    },
    "tags": []
   },
   "outputs": [
    {
     "name": "stdout",
     "output_type": "stream",
     "text": [
      "/kaggle/input/playground-series-s5e5/sample_submission.csv\n",
      "/kaggle/input/playground-series-s5e5/train.csv\n",
      "/kaggle/input/playground-series-s5e5/test.csv\n"
     ]
    }
   ],
   "source": [
    "# This Python 3 environment comes with many helpful analytics libraries installed\n",
    "# It is defined by the kaggle/python Docker image: https://github.com/kaggle/docker-python\n",
    "# For example, here's several helpful packages to load\n",
    "\n",
    "import numpy as np # linear algebra\n",
    "import pandas as pd # data processing, CSV file I/O (e.g. pd.read_csv)\n",
    "import matplotlib.pyplot as plt\n",
    "import seaborn as sns\n",
    "from sklearn.ensemble import RandomForestClassifier\n",
    "\n",
    "# Input data files are available in the read-only \"../input/\" directory\n",
    "# For example, running this (by clicking run or pressing Shift+Enter) will list all files under the input directory\n",
    "\n",
    "import os\n",
    "for dirname, _, filenames in os.walk('/kaggle/input'):\n",
    "    for filename in filenames:\n",
    "        print(os.path.join(dirname, filename))\n",
    "\n",
    "# You can write up to 20GB to the current directory (/kaggle/working/) that gets preserved as output when you create a version using \"Save & Run All\" \n",
    "# You can also write temporary files to /kaggle/temp/, but they won't be saved outside of the current session"
   ]
  },
  {
   "cell_type": "code",
   "execution_count": 2,
   "id": "002c09f1",
   "metadata": {
    "execution": {
     "iopub.execute_input": "2025-05-02T13:40:56.768910Z",
     "iopub.status.busy": "2025-05-02T13:40:56.768319Z",
     "iopub.status.idle": "2025-05-02T13:40:57.805980Z",
     "shell.execute_reply": "2025-05-02T13:40:57.804968Z"
    },
    "papermill": {
     "duration": 1.042666,
     "end_time": "2025-05-02T13:40:57.807900",
     "exception": false,
     "start_time": "2025-05-02T13:40:56.765234",
     "status": "completed"
    },
    "tags": []
   },
   "outputs": [],
   "source": [
    "train_data=pd.read_csv(\"/kaggle/input/playground-series-s5e5/train.csv\")"
   ]
  },
  {
   "cell_type": "code",
   "execution_count": 3,
   "id": "334169b5",
   "metadata": {
    "execution": {
     "iopub.execute_input": "2025-05-02T13:40:57.813734Z",
     "iopub.status.busy": "2025-05-02T13:40:57.813397Z",
     "iopub.status.idle": "2025-05-02T13:40:58.118272Z",
     "shell.execute_reply": "2025-05-02T13:40:58.117002Z"
    },
    "papermill": {
     "duration": 0.310025,
     "end_time": "2025-05-02T13:40:58.120356",
     "exception": false,
     "start_time": "2025-05-02T13:40:57.810331",
     "status": "completed"
    },
    "tags": []
   },
   "outputs": [],
   "source": [
    "test_data=pd.read_csv(\"/kaggle/input/playground-series-s5e5/test.csv\")"
   ]
  },
  {
   "cell_type": "code",
   "execution_count": 4,
   "id": "8b96ffca",
   "metadata": {
    "execution": {
     "iopub.execute_input": "2025-05-02T13:40:58.126260Z",
     "iopub.status.busy": "2025-05-02T13:40:58.125898Z",
     "iopub.status.idle": "2025-05-02T13:42:22.861258Z",
     "shell.execute_reply": "2025-05-02T13:42:22.859902Z"
    },
    "papermill": {
     "duration": 84.740929,
     "end_time": "2025-05-02T13:42:22.863728",
     "exception": false,
     "start_time": "2025-05-02T13:40:58.122799",
     "status": "completed"
    },
    "tags": []
   },
   "outputs": [],
   "source": [
    "y=train_data['Calories']\n",
    "features=['Duration','Heart_Rate','Body_Temp']\n",
    "x=pd.get_dummies(train_data[features])\n",
    "x_data=pd.get_dummies(test_data[features])\n",
    "model=RandomForestClassifier(n_estimators=100,max_depth=5,random_state=1)\n",
    "model.fit(x,y)\n",
    "predictions=model.predict(x_data)\n",
    "output=pd.DataFrame({'id':test_data.id,'Calories':predictions})\n",
    "output.to_csv('Submission.csv',index=False)"
   ]
  }
 ],
 "metadata": {
  "kaggle": {
   "accelerator": "none",
   "dataSources": [
    {
     "databundleVersionId": 11893428,
     "sourceId": 91716,
     "sourceType": "competition"
    }
   ],
   "dockerImageVersionId": 31012,
   "isGpuEnabled": false,
   "isInternetEnabled": false,
   "language": "python",
   "sourceType": "notebook"
  },
  "kernelspec": {
   "display_name": "Python 3",
   "language": "python",
   "name": "python3"
  },
  "language_info": {
   "codemirror_mode": {
    "name": "ipython",
    "version": 3
   },
   "file_extension": ".py",
   "mimetype": "text/x-python",
   "name": "python",
   "nbconvert_exporter": "python",
   "pygments_lexer": "ipython3",
   "version": "3.11.11"
  },
  "papermill": {
   "default_parameters": {},
   "duration": 97.038613,
   "end_time": "2025-05-02T13:42:23.888287",
   "environment_variables": {},
   "exception": null,
   "input_path": "__notebook__.ipynb",
   "output_path": "__notebook__.ipynb",
   "parameters": {},
   "start_time": "2025-05-02T13:40:46.849674",
   "version": "2.6.0"
  }
 },
 "nbformat": 4,
 "nbformat_minor": 5
}
